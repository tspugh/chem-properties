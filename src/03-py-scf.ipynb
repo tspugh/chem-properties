{
 "cells": [
  {
   "cell_type": "code",
   "execution_count": 1,
   "id": "05ad503c",
   "metadata": {},
   "outputs": [],
   "source": [
    "%load_ext autoreload\n",
    "%autoreload 2"
   ]
  },
  {
   "cell_type": "code",
   "execution_count": 2,
   "id": "696835c2",
   "metadata": {},
   "outputs": [],
   "source": [
    "import pandas as pd\n",
    "full_train_data = pd.read_csv(\"../data/train.csv\")\n",
    "valid_ffv = full_train_data[full_train_data['FFV'].notna()]\n",
    "\n",
    "two_star_ffv = valid_ffv[valid_ffv['SMILES'].str.count(r\"\\*\") == 2]"
   ]
  },
  {
   "cell_type": "code",
   "execution_count": 3,
   "id": "693f06ac",
   "metadata": {},
   "outputs": [
    {
     "data": {
      "image/png": "[encoded data removed]",
      "text/plain": [
       "<rdkit.Chem.rdchem.Mol at 0x7fff5ecbf610>"
      ]
     },
     "metadata": {},
     "output_type": "display_data"
    }
   ],
   "source": [
    "from data_gen_helpers import display_smiles\n",
    "sample_smiles = two_star_ffv.loc[0, 'SMILES']\n",
    "\n",
    "display_smiles(sample_smiles)"
   ]
  },
  {
   "cell_type": "code",
   "execution_count": 4,
   "id": "2737b1af",
   "metadata": {},
   "outputs": [
    {
     "name": "stdout",
     "output_type": "stream",
     "text": [
      "converged SCF energy = -1161.15640154278\n",
      "[[ 2.07025426e+00 -2.26587213e-01 -1.58336908e-02 ...  1.78307845e-04\n",
      "  -1.05290459e-03 -1.69405380e-03]\n",
      " [-2.26587213e-01  8.65956616e-01  4.71392463e-02 ... -8.04941637e-04\n",
      "   4.58611415e-03  6.67982545e-03]\n",
      " [-1.58336908e-02  4.71392463e-02  5.55490811e-01 ...  8.25833227e-04\n",
      "  -7.65196466e-03 -9.52512464e-03]\n",
      " ...\n",
      " [ 1.78307845e-04 -8.04941637e-04  8.25833227e-04 ...  5.93295724e-01\n",
      "  -2.74798814e-03  2.01978014e-04]\n",
      " [-1.05290459e-03  4.58611415e-03 -7.65196466e-03 ... -2.74798814e-03\n",
      "   5.86922999e-01 -7.55430699e-02]\n",
      " [-1.69405380e-03  6.67982545e-03 -9.52512464e-03 ...  2.01978014e-04\n",
      "  -7.55430699e-02  5.99056471e-01]]\n"
     ]
    }
   ],
   "source": [
    "#https://github.com/rdkit/rdkit/issues/7716\n",
    "from pyscf import gto, scf\n",
    "from rdkit import Chem\n",
    "from rdkit.Chem import rdDistGeom\n",
    "\n",
    "sample_smiles = two_star_ffv.sample(1, random_state=1)['SMILES'].values[0]\n",
    "\n",
    "\n",
    "def remove_asterisk(smiles):\n",
    "    return smiles.replace('*', '').replace('()', '')\n",
    "\n",
    "mol = Chem.rdmolfiles.MolFromSmiles(remove_asterisk(sample_smiles))\n",
    "mol = Chem.AddHs(mol)\n",
    "\n",
    "geometry = rdDistGeom.ETKDGv3()\n",
    "Chem.rdDistGeom.EmbedMolecule(mol, geometry)\n",
    "\n",
    "mol_xyz = Chem.MolToXYZBlock(mol).splitlines()[2:]\n",
    "mol_xyz = '\\n'.join(mol_xyz)\n",
    "\n",
    "#https://pyscf.org/user/using.html\n",
    "mymol = gto.Mole()\n",
    "mymol.atom = mol_xyz\n",
    "mymol.basis = 'sto-3g'\n",
    "\n",
    "mymol.build()\n",
    "\n",
    "mf = scf.RHF(mymol)\n",
    "mf.kernel()\n",
    "dm1 = mf.make_rdm1()\n",
    "print(dm1)\n"
   ]
  },
  {
   "cell_type": "code",
   "execution_count": null,
   "id": "d0766510",
   "metadata": {},
   "outputs": [],
   "source": [
    "def optimize_ffv(smiles: str, basis: str = 'sto-3g', max_cycle: int = 50, conv: float = 1e-6, basis_set: str = 'sto-3g'):\n",
    "    mol = Chem.rdmolfiles.MolFromSmiles(remove_asterisk(smiles))\n",
    "    mol = Chem.AddHs(mol)\n",
    "    \n",
    "    geometry = rdDistGeom.ETKDGv3()\n",
    "    Chem.rdDistGeom.EmbedMolecule(mol, geometry)\n",
    "    mol_xyz = Chem.MolToXYZBlock(mol).splitlines()[2:]\n",
    "    mol_xyz = '\\n'.join(mol_xyz)\n",
    "    \n",
    "    mymol = gto.Mole()\n",
    "    mymol.atom = mol_xyz\n",
    "    mymol.basis = basis_set\n",
    "    mymol.build()\n",
    "\n",
    "    mf = scf.RHF(mymol)\n",
    "    mf.conv_tol = conv\n",
    "    mf.max_cycle = max_cycle\n",
    "    mf.verbose = 4\n",
    "    mf.kernel()\n",
    "    return mf\n",
    "\n",
    "mf_test = optimize_ffv(sample_smiles, max_cycle=5)\n",
    "print(mf_test.mo_energy)"
   ]
  },
  {
   "cell_type": "code",
   "execution_count": null,
   "id": "a9605f15",
   "metadata": {},
   "outputs": [
    {
     "name": "stdout",
     "output_type": "stream",
     "text": [
      "Generating polymer chains for 2 monomers...\n",
      "Generating chains for monomer: *CC(*)c1ccccc1C(=O)OCCCCCC\n",
      "19\n"
     ]
    },
    {
     "name": "stderr",
     "output_type": "stream",
     "text": [
      "The SMILES writer does not write stereochemical information\n",
      "The SMILES writer does not write stereochemical information\n",
      "The SMILES writer does not write stereochemical information\n",
      "The SMILES writer does not write stereochemical information\n",
      "The SMILES writer does not write stereochemical information\n",
      "The SMILES writer does not write stereochemical information\n",
      "The SMILES writer does not write stereochemical information\n",
      "The SMILES writer does not write stereochemical information\n",
      "The SMILES writer does not write stereochemical information\n",
      "The SMILES writer does not write stereochemical information\n",
      "The SMILES writer does not write stereochemical information\n",
      "The SMILES writer does not write stereochemical information\n"
     ]
    },
    {
     "name": "stdout",
     "output_type": "stream",
     "text": [
      "  Generated 27 polymer configurations\n",
      "Generating chains for monomer: *Nc1ccc([C@H](CCC)c2ccc(C3(c4ccc([C@@H](CCC)c5ccc(N*)cc5)cc4)CCC(CCCCC)CC3)cc2)cc1\n",
      "47\n",
      "  Generated 2 polymer configurations\n",
      "Total calculations to perform: 29\n",
      "Using 2 parallel processes\n",
      "Estimated time per calculation: 10-60 seconds\n",
      "Processing batch 1/1 (29 calculations)\n",
      "ETKDGv3 failed, trying basic ETKDG\n",
      "ETKDGv3 failed, trying basic ETKDG\n",
      "Sucessfully created molecule for *C(CCC(*)c1ccccc1C(=O)OCCCCCC)c1ccccc1C(=O)OCCCCCC\n",
      "Starting dft calculation\n",
      "ETKGDG failed, trying random coords\n",
      "Sucessfully created molecule for *C(CCC(CC(CC(*)c1ccccc1C(=O)OCCCCCC)c1ccccc1C(=O)OCCCCCC)c1ccccc1C(=O)OCCCCCC)c1ccccc1C(=O)OCCCCCC\n",
      "Starting dft calculation\n"
     ]
    }
   ],
   "source": [
    "from opt_helpers import calculate_polymer_energies\n",
    "import opt_helpers\n",
    "opt_helpers.verbose = 1\n",
    "\n",
    "calculate_polymer_energies(two_star_ffv.loc[:1, \"SMILES\"], max_chain_length=60, method='dft', n_processes=2)"
   ]
  }
 ],
 "metadata": {
  "kernelspec": {
   "display_name": "chem-properties",
   "language": "python",
   "name": "python3"
  },
  "language_info": {
   "codemirror_mode": {
    "name": "ipython",
    "version": 3
   },
   "file_extension": ".py",
   "mimetype": "text/x-python",
   "name": "python",
   "nbconvert_exporter": "python",
   "pygments_lexer": "ipython3",
   "version": "3.11.2"
  }
 },
 "nbformat": 4,
 "nbformat_minor": 5
}
