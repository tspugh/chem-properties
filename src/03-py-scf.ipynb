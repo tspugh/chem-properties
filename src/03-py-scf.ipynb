{
 "cells": [
  {
   "cell_type": "code",
   "execution_count": 1,
   "id": "05ad503c",
   "metadata": {},
   "outputs": [],
   "source": [
    "%load_ext autoreload\n",
    "%autoreload 2"
   ]
  },
  {
   "cell_type": "code",
   "execution_count": 2,
   "id": "696835c2",
   "metadata": {},
   "outputs": [],
   "source": [
    "import pandas as pd\n",
    "full_train_data = pd.read_csv(\"../data/train.csv\")\n",
    "valid_ffv = full_train_data[full_train_data['FFV'].notna()]\n",
    "\n",
    "two_star_ffv = valid_ffv[valid_ffv['SMILES'].str.count(r\"\\*\") == 2]"
   ]
  },
  {
   "cell_type": "code",
   "execution_count": 40,
   "id": "2737b1af",
   "metadata": {},
   "outputs": [
    {
     "name": "stdout",
     "output_type": "stream",
     "text": [
      "converged SCF energy = -1161.14913590736\n",
      "[[ 2.07030080e+00 -2.28172889e-01 -1.36160615e-02 ...  2.12686957e-04\n",
      "  -1.23019739e-03 -1.63912127e-03]\n",
      " [-2.28172889e-01  8.75305320e-01  4.42143035e-02 ... -9.57427356e-04\n",
      "   5.60495329e-03  6.89929335e-03]\n",
      " [-1.36160615e-02  4.42143035e-02  5.31253510e-01 ...  1.00522717e-03\n",
      "  -6.84017336e-03 -9.84755836e-03]\n",
      " ...\n",
      " [ 2.12686957e-04 -9.57427356e-04  1.00522717e-03 ...  6.06607153e-01\n",
      "  -1.60864213e-03 -5.03202079e-04]\n",
      " [-1.23019739e-03  5.60495329e-03 -6.84017336e-03 ... -1.60864213e-03\n",
      "   6.06015943e-01 -7.77503491e-02]\n",
      " [-1.63912127e-03  6.89929335e-03 -9.84755836e-03 ... -5.03202079e-04\n",
      "  -7.77503491e-02  5.91910010e-01]]\n"
     ]
    }
   ],
   "source": [
    "#https://github.com/rdkit/rdkit/issues/7716\n",
    "from pyscf import gto, scf\n",
    "from rdkit import Chem\n",
    "from rdkit.Chem import rdDistGeom\n",
    "\n",
    "sample_smiles = two_star_ffv.sample(1, random_state=1)['SMILES'].values[0]\n",
    "\n",
    "def remove_asterisk(smiles):\n",
    "    return smiles.replace('*', '').replace('()', '')\n",
    "\n",
    "mol = Chem.rdmolfiles.MolFromSmiles(remove_asterisk(sample_smiles))\n",
    "mol = Chem.AddHs(mol)\n",
    "\n",
    "geometry = rdDistGeom.ETKDGv3()\n",
    "Chem.rdDistGeom.EmbedMolecule(mol, geometry)\n",
    "\n",
    "mol_xyz = Chem.MolToXYZBlock(mol).splitlines()[2:]\n",
    "mol_xyz = '\\n'.join(mol_xyz)\n",
    "\n",
    "#https://pyscf.org/user/using.html\n",
    "mymol = gto.Mole()\n",
    "mymol.atom = mol_xyz\n",
    "mymol.basis = 'sto-3g'\n",
    "\n",
    "mymol.build()\n",
    "\n",
    "mf = scf.RHF(mymol)\n",
    "mf.kernel()\n",
    "dm1 = mf.make_rdm1()\n",
    "print(dm1)\n"
   ]
  },
  {
   "cell_type": "code",
   "execution_count": null,
   "id": "d0766510",
   "metadata": {},
   "outputs": [],
   "source": [
    "def optimize_ffv(smiles: str, basis: str = 'sto-3g', max_cycle: int = 50, conv: float = 1e-6, basis_set: str = 'sto-3g'):\n",
    "    mol = Chem.rdmolfiles.MolFromSmiles(remove_asterisk(smiles))\n",
    "    mol = Chem.AddHs(mol)\n",
    "    \n",
    "    geometry = rdDistGeom.ETKDGv3()\n",
    "    Chem.rdDistGeom.EmbedMolecule(mol, geometry)\n",
    "    mol_xyz = Chem.MolToXYZBlock(mol).splitlines()[2:]\n",
    "    mol_xyz = '\\n'.join(mol_xyz)\n",
    "    \n",
    "    mymol = gto.Mole()\n",
    "    mymol.atom = mol_xyz\n",
    "    mymol.basis = basis_set\n",
    "    mymol.build()\n",
    "\n",
    "    mf = scf.RHF(mymol)\n",
    "    mf.conv_tol = conv\n",
    "    mf.max_cycle = max_cycle\n",
    "    mf.verbose = 4\n",
    "    mf.kernel()\n",
    "    return mf\n",
    "\n",
    "mf_test = optimize_ffv(sample_smiles, max_cycle=5)\n",
    "print(mf_test.mo_energy)"
   ]
  }
 ],
 "metadata": {
  "kernelspec": {
   "display_name": "chem-properties",
   "language": "python",
   "name": "python3"
  },
  "language_info": {
   "codemirror_mode": {
    "name": "ipython",
    "version": 3
   },
   "file_extension": ".py",
   "mimetype": "text/x-python",
   "name": "python",
   "nbconvert_exporter": "python",
   "pygments_lexer": "ipython3",
   "version": "3.11.2"
  }
 },
 "nbformat": 4,
 "nbformat_minor": 5
}
