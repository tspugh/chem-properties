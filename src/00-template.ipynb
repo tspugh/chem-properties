{
 "cells": [
  {
   "cell_type": "code",
   "execution_count": 1,
   "id": "05ad503c",
   "metadata": {},
   "outputs": [],
   "source": [
    "%load_ext autoreload\n",
    "%autoreload 2"
   ]
  },
  {
   "cell_type": "code",
   "execution_count": null,
   "id": "696835c2",
   "metadata": {},
   "outputs": [
    {
     "name": "stdout",
     "output_type": "stream",
     "text": [
      "       id                                             SMILES  Tg       FFV  \\\n",
      "0   87817                         *CC(*)c1ccccc1C(=O)OCCCCCC NaN  0.374645   \n",
      "1  106919  *Nc1ccc([C@H](CCC)c2ccc(C3(c4ccc([C@@H](CCC)c5... NaN  0.370410   \n",
      "2  388772  *Oc1ccc(S(=O)(=O)c2ccc(Oc3ccc(C4(c5ccc(Oc6ccc(... NaN  0.378860   \n",
      "3  519416  *Nc1ccc(-c2c(-c3ccc(C)cc3)c(-c3ccc(C)cc3)c(N*)... NaN  0.387324   \n",
      "4  539187  *Oc1ccc(OC(=O)c2cc(OCCCCCCCCCOCC3CCCN3c3ccc([N... NaN  0.355470   \n",
      "\n",
      "         Tc  Density  Rg  \n",
      "0  0.205667      NaN NaN  \n",
      "1       NaN      NaN NaN  \n",
      "2       NaN      NaN NaN  \n",
      "3       NaN      NaN NaN  \n",
      "4       NaN      NaN NaN  \n"
     ]
    }
   ],
   "source": [
    "import pandas as pd\n",
    "full_train_data = pd.read_csv(\"../data/train.csv\")\n",
    "print(full_train_data.head())"
   ]
  },
  {
   "cell_type": "code",
   "execution_count": null,
   "id": "2737b1af",
   "metadata": {},
   "outputs": [],
   "source": []
  }
 ],
 "metadata": {
  "kernelspec": {
   "display_name": "chem-properties",
   "language": "python",
   "name": "python3"
  },
  "language_info": {
   "codemirror_mode": {
    "name": "ipython",
    "version": 3
   },
   "file_extension": ".py",
   "mimetype": "text/x-python",
   "name": "python",
   "nbconvert_exporter": "python",
   "pygments_lexer": "ipython3",
   "version": "3.11.2"
  }
 },
 "nbformat": 4,
 "nbformat_minor": 5
}
