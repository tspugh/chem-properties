{
 "cells": [
  {
   "cell_type": "code",
   "execution_count": 1,
   "id": "05ad503c",
   "metadata": {},
   "outputs": [],
   "source": [
    "%load_ext autoreload\n",
    "%autoreload 2"
   ]
  },
  {
   "cell_type": "code",
   "execution_count": 1,
   "id": "696835c2",
   "metadata": {},
   "outputs": [
    {
     "data": {
      "image/png": "[encoded data removed]",
      "text/plain": [
       "<rdkit.Chem.rdchem.Mol at 0x7fff3b65bdf0>"
      ]
     },
     "metadata": {},
     "output_type": "display_data"
    }
   ],
   "source": [
    "import pandas as pd\n",
    "full_train_data = pd.read_csv(\"../data/train.csv\")\n",
    "valid_ffv = full_train_data[full_train_data['FFV'].notna()]\n",
    "\n",
    "two_star_ffv = valid_ffv[valid_ffv['SMILES'].str.count(r\"\\*\") == 2]\n",
    "\n",
    "from data_gen_helpers import display_smiles\n",
    "sample_smiles = two_star_ffv.loc[0, 'SMILES']\n",
    "\n",
    "display_smiles(sample_smiles)"
   ]
  },
  {
   "cell_type": "code",
   "execution_count": 77,
   "id": "9aab67c7",
   "metadata": {},
   "outputs": [
    {
     "name": "stdout",
     "output_type": "stream",
     "text": [
      "<class 'torch_geometric.data.data.Data'>\n",
      "tensor([[ 1,  0,  1,  0,  0,  0],\n",
      "        [ 1,  0,  1,  0,  0,  0],\n",
      "        [ 1,  0,  0,  1,  0,  0],\n",
      "        [ 1,  0,  1,  0,  0,  0],\n",
      "        [ 1,  0,  0,  1,  0,  0],\n",
      "        [ 1,  0,  0,  1,  0,  0],\n",
      "        [ 1,  0,  1,  0,  0,  0],\n",
      "        [ 1,  0,  1,  0,  0,  0],\n",
      "        [ 1,  0,  0,  1,  0,  0],\n",
      "        [-1,  0,  1,  0,  0,  0],\n",
      "        [-1,  1,  0,  0,  0,  0],\n",
      "        [-1,  1,  0,  0,  0,  0],\n",
      "        [-1,  1,  0,  0,  0,  0],\n",
      "        [-1,  1,  0,  0,  0,  0],\n",
      "        [-1,  1,  0,  0,  0,  0],\n",
      "        [-1,  1,  0,  0,  0,  0],\n",
      "        [-1,  1,  0,  0,  0,  0],\n",
      "        [-1,  0,  0,  1,  0,  0],\n",
      "        [-1,  1,  0,  0,  0,  0],\n",
      "        [-1,  1,  0,  0,  0,  0],\n",
      "        [-1,  1,  0,  0,  0,  0],\n",
      "        [-1,  0,  0,  1,  0,  0],\n",
      "        [-1,  1,  0,  0,  0,  0],\n",
      "        [-1,  1,  0,  0,  0,  0],\n",
      "        [-1,  0,  0,  1,  0,  0],\n",
      "        [-1,  1,  0,  0,  0,  0],\n",
      "        [-1,  1,  0,  0,  0,  0],\n",
      "        [-1,  1,  0,  0,  0,  0],\n",
      "        [-1,  1,  0,  0,  0,  0],\n",
      "        [-1,  1,  0,  0,  0,  0],\n",
      "        [-1,  0,  1,  0,  0,  0],\n",
      "        [-1,  0,  0,  1,  0,  0],\n",
      "        [-1,  1,  0,  0,  0,  0],\n",
      "        [-1,  1,  0,  0,  0,  0],\n",
      "        [-1,  1,  0,  0,  0,  0],\n",
      "        [-1,  1,  0,  0,  0,  0],\n",
      "        [-1,  1,  0,  0,  0,  0],\n",
      "        [-1,  1,  0,  0,  0,  0],\n",
      "        [-1,  1,  0,  0,  0,  0],\n",
      "        [-1,  0,  0,  1,  0,  0],\n",
      "        [-1,  1,  0,  0,  0,  0],\n",
      "        [-1,  1,  0,  0,  0,  0],\n",
      "        [-1,  0,  1,  0,  0,  0],\n",
      "        [-1,  1,  0,  0,  0,  0],\n",
      "        [-1,  0,  0,  0,  0,  1]])\n",
      "tensor([[ 0,  0,  9,  9,  1,  0, 10, 10,  2,  0, 11, 11,  3,  0, 12, 12,  4,  0,\n",
      "         13, 13,  5,  0, 14, 14,  6,  0, 15, 15,  7,  0, 16, 16,  8,  1,  1, 17,\n",
      "         17,  2,  1, 18, 18,  3,  1, 19, 19,  4,  1, 20, 20,  5,  1, 21, 21,  6,\n",
      "          1, 22, 22,  7,  1, 23, 23,  8,  2,  2, 24, 24,  3,  2, 25, 25,  4,  2,\n",
      "         26, 26,  5,  2, 27, 27,  6,  2, 28, 28,  7,  2, 29, 29,  8,  3,  3, 30,\n",
      "         30,  4,  3, 31, 31,  5,  3, 32, 32,  6,  3, 33, 33,  7,  3, 34, 34,  8,\n",
      "          4,  4, 35, 35,  5,  4, 36, 36,  6,  4, 37, 37,  7,  4, 38, 38,  8,  5,\n",
      "          5, 39, 39,  6,  5, 40, 40,  7,  5, 41, 41,  8,  6,  6, 42, 42,  7,  6,\n",
      "         43, 43,  8,  7,  7, 44, 44,  8,  8],\n",
      "        [ 0,  9,  0,  1,  9, 10,  0,  2, 10, 11,  0,  3, 11, 12,  0,  4, 12, 13,\n",
      "          0,  5, 13, 14,  0,  6, 14, 15,  0,  7, 15, 16,  0,  8, 16,  1, 17,  1,\n",
      "          2, 17, 18,  1,  3, 18, 19,  1,  4, 19, 20,  1,  5, 20, 21,  1,  6, 21,\n",
      "         22,  1,  7, 22, 23,  1,  8, 23,  2, 24,  2,  3, 24, 25,  2,  4, 25, 26,\n",
      "          2,  5, 26, 27,  2,  6, 27, 28,  2,  7, 28, 29,  2,  8, 29,  3, 30,  3,\n",
      "          4, 30, 31,  3,  5, 31, 32,  3,  6, 32, 33,  3,  7, 33, 34,  3,  8, 34,\n",
      "          4, 35,  4,  5, 35, 36,  4,  6, 36, 37,  4,  7, 37, 38,  4,  8, 38,  5,\n",
      "         39,  5,  6, 39, 40,  5,  7, 40, 41,  5,  8, 41,  6, 42,  6,  7, 42, 43,\n",
      "          6,  8, 43,  7, 44,  7,  8, 44,  8]])\n"
     ]
    }
   ],
   "source": [
    "import pickle\n",
    "import gzip\n",
    "\n",
    "if 'matching_dataset' not in locals():\n",
    "    matching_dataset = []\n",
    "if not matching_dataset:\n",
    "    file_path = \"../data/vae_github_data/dataset_train_fc.pkl.gz\"\n",
    "    with gzip.open(file_path, \"rb\") as f:\n",
    "        matching_dataset = pickle.load(f)\n",
    "\n",
    "print(type(matching_dataset[0]))\n",
    "print(matching_dataset[0]['x'])\n",
    "print(matching_dataset[0]['edge_index'])"
   ]
  },
  {
   "cell_type": "code",
   "execution_count": 74,
   "id": "0256873c",
   "metadata": {},
   "outputs": [
    {
     "name": "stdout",
     "output_type": "stream",
     "text": [
      "tensor([4., 1., 4., 5., 0.])\n",
      "tensor([ 5.,  0.,  6., 10.,  0.])\n",
      "tensor([ 7.,  2.,  1., 10., 14.])\n",
      "tensor([2., 2., 2., 0., 0.])\n",
      "tensor([1., 1., 0., 0., 0., 0.])\n",
      "tensor([0., 0., 0., 0., 0., 1.])\n"
     ]
    }
   ],
   "source": [
    "from dataset_helpers import *\n",
    "\n",
    "print(minimal_orbital_token(24))\n",
    "print(minimal_orbital_token(46))\n",
    "print(minimal_orbital_token(113))\n",
    "print(minimal_orbital_token(6))\n",
    "print(minimal_orbital_token(1, include_star_dim=True))  # Hydrogen\n",
    "print(minimal_orbital_token(-4, include_star_dim=True))"
   ]
  },
  {
   "cell_type": "code",
   "execution_count": 73,
   "id": "2737b1af",
   "metadata": {},
   "outputs": [],
   "source": [
    "two_star_ffv_graph_data = smiles_iter_to_graph_dataset(two_star_ffv.SMILES)\n",
    "\n",
    "save_dataset(two_star_ffv_graph_data, '../data/working_datasets/two_star_include_stars')"
   ]
  },
  {
   "cell_type": "code",
   "execution_count": null,
   "id": "f4ff4353",
   "metadata": {},
   "outputs": [],
   "source": [
    "# https://github.com/mcunow/graph-matching/blob/main/src/vgae.py\n",
    "from torch.nn import Module\n",
    "from torch_geometric.nn import Set2Set, AttentionalAggregation\n",
    "from torch_geometric.nn.inits import reset\n",
    "from torch_geometric.data import Data\n",
    "from torch_geometric.utils import negative_sampling, dropout_edge, dropout_node, from_smiles, to_smiles, to_rdmol, from_rdmol\n",
    "import torch.nn.functional as F\n",
    "\n",
    "class GAE(Module):\n"
   ]
  }
 ],
 "metadata": {
  "kernelspec": {
   "display_name": "chem-properties",
   "language": "python",
   "name": "python3"
  },
  "language_info": {
   "codemirror_mode": {
    "name": "ipython",
    "version": 3
   },
   "file_extension": ".py",
   "mimetype": "text/x-python",
   "name": "python",
   "nbconvert_exporter": "python",
   "pygments_lexer": "ipython3",
   "version": "3.11.2"
  }
 },
 "nbformat": 4,
 "nbformat_minor": 5
}
